{
 "cells": [
  {
   "cell_type": "markdown",
   "metadata": {},
   "source": [
    "# Machine learning german bank credit risk prediction\n",
    "In this project, I will build a <b>machine learning model for credit risk prediction of German bank customers</b>. It involves <b>supervised learning (using a labeled training set) for classification</b>, where the <b>target</b> is <b>1</b> if the <b>customer</b> represents a <b>bad risk</b>, and <b>0</b> if they represent a <b>good risk</b>.\n",
    "\n",
    "I will use the following <b>pipeline:</b>\n",
    "\n",
    "<b>1. Define the business problem.</b><br>\n",
    "<b>2. Collect the data and get a general overview of it.</b><br>\n",
    "<b>3. Split the data into train and test sets.</b><br>\n",
    "<b>4. Explore the data (exploratory data analysis)</b><br>\n",
    "<b>5. Data cleaning and preprocessing.</b><br>\n",
    "<b>6. Model training, comparison, selection and tuning.</b><br>\n",
    "<b>7. Final production model testing and evaluation.</b><br>\n",
    "<b>8. Conclude and interpret the model results.</b><br>\n",
    "\n",
    "In <b>this notebook</b>, I will perform <b>machine learning modelling, covering steps 5 to 8 of the pipeline above</b>. The main <b>objective</b> here is to <b>build a model that can predict as many as possible bad risk customers, thus recall is the metric of interest</b>. Once I build this model, the <B>bank can make informed decisions that balance profit generation with prudent risk management</b>, ultimately benefiting both the company and its customers. Furthermore, I will approach these steps in more detail below, with an overview of them and the explanation of why I am making each decision. "
   ]
  },
  {
   "cell_type": "markdown",
   "metadata": {},
   "source": [
    "### Importing the libraries"
   ]
  },
  {
   "cell_type": "code",
   "execution_count": 44,
   "metadata": {},
   "outputs": [],
   "source": [
    "# Data manipulation and visualization.\n",
    "import pandas as pd\n",
    "import numpy as np\n",
    "import matplotlib.pyplot as plt\n",
    "import seaborn as sns\n",
    "\n",
    "# Modelling\n",
    "from sklearn.model_selection import train_test_split\n",
    "from sklearn.pipeline import Pipeline\n",
    "from sklearn.compose import ColumnTransformer\n",
    "from sklearn.preprocessing import OrdinalEncoder, StandardScaler\n",
    "from category_encoders import TargetEncoder\n",
    "from sklearn.impute import SimpleImputer\n",
    "from sklearn.metrics import classification_report, roc_auc_score, confusion_matrix, roc_curve\n",
    "from sklearn.linear_model import LogisticRegression\n",
    "from sklearn.svm import LinearSVC, SVC\n",
    "from sklearn.neighbors import KNeighborsClassifier\n",
    "from sklearn.ensemble import RandomForestClassifier\n",
    "from xgboost import XGBClassifier\n",
    "from skopt import BayesSearchCV\n",
    "from skopt.space import Real, Categorical, Integer\n",
    "from sklearn.base import clone\n",
    "\n",
    "# Fixing bayesian search error.\n",
    "np.int = int\n",
    "\n",
    "# Filter warnings.\n",
    "import warnings\n",
    "warnings.filterwarnings('ignore')\n",
    "\n",
    "# Utils\n",
    "from notebooks.modelling_utils import *"
   ]
  },
  {
   "cell_type": "markdown",
   "metadata": {},
   "source": [
    "### Reading the dataset"
   ]
  },
  {
   "cell_type": "code",
   "execution_count": 12,
   "metadata": {},
   "outputs": [],
   "source": [
    "df = pd.read_csv('data/german_credit_data.csv')\n",
    "# Dropping irrelevant column.\n",
    "df.drop(columns=['Unnamed: 0'], inplace=True)"
   ]
  },
  {
   "cell_type": "code",
   "execution_count": 13,
   "metadata": {},
   "outputs": [
    {
     "data": {
      "text/html": [
       "<div>\n",
       "<style scoped>\n",
       "    .dataframe tbody tr th:only-of-type {\n",
       "        vertical-align: middle;\n",
       "    }\n",
       "\n",
       "    .dataframe tbody tr th {\n",
       "        vertical-align: top;\n",
       "    }\n",
       "\n",
       "    .dataframe thead th {\n",
       "        text-align: right;\n",
       "    }\n",
       "</style>\n",
       "<table border=\"1\" class=\"dataframe\">\n",
       "  <thead>\n",
       "    <tr style=\"text-align: right;\">\n",
       "      <th></th>\n",
       "      <th>Age</th>\n",
       "      <th>Sex</th>\n",
       "      <th>Job</th>\n",
       "      <th>Housing</th>\n",
       "      <th>Saving accounts</th>\n",
       "      <th>Checking account</th>\n",
       "      <th>Credit amount</th>\n",
       "      <th>Duration</th>\n",
       "      <th>Purpose</th>\n",
       "      <th>Risk</th>\n",
       "    </tr>\n",
       "  </thead>\n",
       "  <tbody>\n",
       "    <tr>\n",
       "      <th>0</th>\n",
       "      <td>67</td>\n",
       "      <td>male</td>\n",
       "      <td>2</td>\n",
       "      <td>own</td>\n",
       "      <td>NaN</td>\n",
       "      <td>little</td>\n",
       "      <td>1169</td>\n",
       "      <td>6</td>\n",
       "      <td>radio/TV</td>\n",
       "      <td>good</td>\n",
       "    </tr>\n",
       "    <tr>\n",
       "      <th>1</th>\n",
       "      <td>22</td>\n",
       "      <td>female</td>\n",
       "      <td>2</td>\n",
       "      <td>own</td>\n",
       "      <td>little</td>\n",
       "      <td>moderate</td>\n",
       "      <td>5951</td>\n",
       "      <td>48</td>\n",
       "      <td>radio/TV</td>\n",
       "      <td>bad</td>\n",
       "    </tr>\n",
       "    <tr>\n",
       "      <th>2</th>\n",
       "      <td>49</td>\n",
       "      <td>male</td>\n",
       "      <td>1</td>\n",
       "      <td>own</td>\n",
       "      <td>little</td>\n",
       "      <td>NaN</td>\n",
       "      <td>2096</td>\n",
       "      <td>12</td>\n",
       "      <td>education</td>\n",
       "      <td>good</td>\n",
       "    </tr>\n",
       "    <tr>\n",
       "      <th>3</th>\n",
       "      <td>45</td>\n",
       "      <td>male</td>\n",
       "      <td>2</td>\n",
       "      <td>free</td>\n",
       "      <td>little</td>\n",
       "      <td>little</td>\n",
       "      <td>7882</td>\n",
       "      <td>42</td>\n",
       "      <td>furniture/equipment</td>\n",
       "      <td>good</td>\n",
       "    </tr>\n",
       "    <tr>\n",
       "      <th>4</th>\n",
       "      <td>53</td>\n",
       "      <td>male</td>\n",
       "      <td>2</td>\n",
       "      <td>free</td>\n",
       "      <td>little</td>\n",
       "      <td>little</td>\n",
       "      <td>4870</td>\n",
       "      <td>24</td>\n",
       "      <td>car</td>\n",
       "      <td>bad</td>\n",
       "    </tr>\n",
       "  </tbody>\n",
       "</table>\n",
       "</div>"
      ],
      "text/plain": [
       "   Age     Sex  Job Housing Saving accounts Checking account  Credit amount   \n",
       "0   67    male    2     own             NaN           little           1169  \\\n",
       "1   22  female    2     own          little         moderate           5951   \n",
       "2   49    male    1     own          little              NaN           2096   \n",
       "3   45    male    2    free          little           little           7882   \n",
       "4   53    male    2    free          little           little           4870   \n",
       "\n",
       "   Duration              Purpose  Risk  \n",
       "0         6             radio/TV  good  \n",
       "1        48             radio/TV   bad  \n",
       "2        12            education  good  \n",
       "3        42  furniture/equipment  good  \n",
       "4        24                  car   bad  "
      ]
     },
     "execution_count": 13,
     "metadata": {},
     "output_type": "execute_result"
    }
   ],
   "source": [
    "df.head()"
   ]
  },
  {
   "cell_type": "markdown",
   "metadata": {},
   "source": [
    "Sex and Risk can be expressed as binary features. Thus, I will set good as 1 and bad as 0 in Risk. In sex, I will set male as 1 and female as 0."
   ]
  },
  {
   "cell_type": "code",
   "execution_count": 14,
   "metadata": {},
   "outputs": [],
   "source": [
    "df['Sex'] = df['Sex'].map({'male': 1, 'female': 0})\n",
    "df['Risk'] = df['Risk'].map({'bad': 1, 'good': 0})"
   ]
  },
  {
   "cell_type": "markdown",
   "metadata": {},
   "source": [
    "### Split the data into train and test sets\n",
    "- First of all, I will split the data into train and test sets.\n",
    "- Test set is supposed to be data the model has never seen before.\n",
    "- This split will avoid data leakage, which occurs when information from the test set or future data inadvertently leaks into the training process, leading to over-optimistic performance estimate, compromising the model's ability to generalize to new, unseen data.\n",
    "- A good practice to protect the model against data leakage is perform fit_transform on training data and just transform on test data when applying preprocessing steps after the split.\n",
    "- I will specify stratify=y so that the train_test_split function ensures that the splitting process maintains the same percentage of each target class in both the training and testing sets. This is particularly useful when dealing with imbalanced datasets, which is the case, as there are more bad risk customers."
   ]
  },
  {
   "cell_type": "code",
   "execution_count": 45,
   "metadata": {},
   "outputs": [],
   "source": [
    "X = df.drop(columns=['Risk'])\n",
    "y = df['Risk'].copy()\n",
    "\n",
    "X_train, X_test, y_train, y_test = train_test_split(X, y, test_size=0.2, stratify=y, random_state=42)"
   ]
  },
  {
   "cell_type": "code",
   "execution_count": 16,
   "metadata": {},
   "outputs": [
    {
     "name": "stdout",
     "output_type": "stream",
     "text": [
      "Train predictor dataset shape: (800, 9).\n",
      "Train target dataset shape: (800,).\n",
      "Test predictor dataset shape: (200, 9).\n",
      "Test target dataset shape: (200,).\n"
     ]
    }
   ],
   "source": [
    "print(f'Train predictor dataset shape: {X_train.shape}.')\n",
    "print(f'Train target dataset shape: {y_train.shape}.')\n",
    "print(f'Test predictor dataset shape: {X_test.shape}.')\n",
    "print(f'Test target dataset shape: {y_test.shape}.')"
   ]
  },
  {
   "cell_type": "code",
   "execution_count": 17,
   "metadata": {},
   "outputs": [
    {
     "name": "stdout",
     "output_type": "stream",
     "text": [
      "Train target classes proportions: \n",
      "Risk\n",
      "0    0.7\n",
      "1    0.3\n",
      "Name: proportion, dtype: float64\n",
      "\n",
      "Test target classes proportions:\n",
      "Risk\n",
      "0    0.7\n",
      "1    0.3\n",
      "Name: proportion, dtype: float64\n"
     ]
    }
   ],
   "source": [
    "print(f'Train target classes proportions: ')\n",
    "print(y_train.value_counts(normalize=True))\n",
    "print(f'\\nTest target classes proportions:')\n",
    "print(y_test.value_counts(normalize=True))"
   ]
  },
  {
   "cell_type": "markdown",
   "metadata": {},
   "source": [
    "The train-test-split was succesfull and each target class proportion was preserved in both sets."
   ]
  },
  {
   "cell_type": "markdown",
   "metadata": {},
   "source": [
    "# 5. Data cleaning and preprocessing\n",
    "In order to fit machine learning algorithms, it is necessary to apply some transformations to the data.\n",
    "\n",
    "- <b>Impute missing values:</b> There are some missing values in Saving accounts and Checking account. I will replace them with mode. Dropping the null values is not a good choice because I have a little amount of data (just 1000 rows).<br>\n",
    "- <b>Outliers:</b> In the eda step, I investigated the outliers and saw that they don't represent inconsistent information like measurement errors. Thus, considering this and the fact that I have a little amount of data, I will not drop or treat any.<br>\n",
    "- In order to train tree-based algorithms, it is not necessary to scale the data. However, as I intend to test a different algorithms, I will apply standard scaler on numerical and categorical features (after encoding). By doing this, it will be possible to compare all models at once.\n",
    "- <b>Numerical features:</b> Some algorithms are sensitive to feature scaling because they use distance calculations or optimizations like gradient descent for being trained, which are affected by scale. Thus, I will apply StandardScaler on numeric attributes.<br>\n",
    "- <b>Categorical features:</b> Machine learning algorithms make mathematical calculations, so it's necessary to convert the categoric attributes to numeric by applying encoding techniques. Saving accounts and Checking account present ordinal relationships. Thus, I chose OrdinalEncoder for encoding them. Moreover, I chose TargetEncoder for the other categorical features because OneHotEncoder would increase dimensionality (creating dummy variables). As I have a little amount of data, increase dimensionality would favor overfitting, compromising my model's generalization ability. After all these variables are encoded/converted to numeric, I will apply StandardScaler because some algorithms are sensitive to scale. StandardScaler is more robust to outliers than MinMaxScaler, that's why I chose it.<br>"
   ]
  },
  {
   "cell_type": "code",
   "execution_count": 18,
   "metadata": {},
   "outputs": [
    {
     "data": {
      "text/html": [
       "<div>\n",
       "<style scoped>\n",
       "    .dataframe tbody tr th:only-of-type {\n",
       "        vertical-align: middle;\n",
       "    }\n",
       "\n",
       "    .dataframe tbody tr th {\n",
       "        vertical-align: top;\n",
       "    }\n",
       "\n",
       "    .dataframe thead th {\n",
       "        text-align: right;\n",
       "    }\n",
       "</style>\n",
       "<table border=\"1\" class=\"dataframe\">\n",
       "  <thead>\n",
       "    <tr style=\"text-align: right;\">\n",
       "      <th></th>\n",
       "      <th>Age</th>\n",
       "      <th>Sex</th>\n",
       "      <th>Job</th>\n",
       "      <th>Housing</th>\n",
       "      <th>Saving accounts</th>\n",
       "      <th>Checking account</th>\n",
       "      <th>Credit amount</th>\n",
       "      <th>Duration</th>\n",
       "      <th>Purpose</th>\n",
       "    </tr>\n",
       "  </thead>\n",
       "  <tbody>\n",
       "    <tr>\n",
       "      <th>828</th>\n",
       "      <td>47</td>\n",
       "      <td>1</td>\n",
       "      <td>2</td>\n",
       "      <td>free</td>\n",
       "      <td>NaN</td>\n",
       "      <td>little</td>\n",
       "      <td>8335</td>\n",
       "      <td>36</td>\n",
       "      <td>car</td>\n",
       "    </tr>\n",
       "    <tr>\n",
       "      <th>997</th>\n",
       "      <td>38</td>\n",
       "      <td>1</td>\n",
       "      <td>2</td>\n",
       "      <td>own</td>\n",
       "      <td>little</td>\n",
       "      <td>NaN</td>\n",
       "      <td>804</td>\n",
       "      <td>12</td>\n",
       "      <td>radio/TV</td>\n",
       "    </tr>\n",
       "    <tr>\n",
       "      <th>148</th>\n",
       "      <td>28</td>\n",
       "      <td>1</td>\n",
       "      <td>2</td>\n",
       "      <td>own</td>\n",
       "      <td>little</td>\n",
       "      <td>little</td>\n",
       "      <td>5371</td>\n",
       "      <td>36</td>\n",
       "      <td>furniture/equipment</td>\n",
       "    </tr>\n",
       "    <tr>\n",
       "      <th>735</th>\n",
       "      <td>29</td>\n",
       "      <td>0</td>\n",
       "      <td>0</td>\n",
       "      <td>own</td>\n",
       "      <td>NaN</td>\n",
       "      <td>moderate</td>\n",
       "      <td>3990</td>\n",
       "      <td>36</td>\n",
       "      <td>domestic appliances</td>\n",
       "    </tr>\n",
       "    <tr>\n",
       "      <th>130</th>\n",
       "      <td>24</td>\n",
       "      <td>0</td>\n",
       "      <td>2</td>\n",
       "      <td>own</td>\n",
       "      <td>NaN</td>\n",
       "      <td>moderate</td>\n",
       "      <td>8487</td>\n",
       "      <td>48</td>\n",
       "      <td>car</td>\n",
       "    </tr>\n",
       "  </tbody>\n",
       "</table>\n",
       "</div>"
      ],
      "text/plain": [
       "     Age  Sex  Job Housing Saving accounts Checking account  Credit amount   \n",
       "828   47    1    2    free             NaN           little           8335  \\\n",
       "997   38    1    2     own          little              NaN            804   \n",
       "148   28    1    2     own          little           little           5371   \n",
       "735   29    0    0     own             NaN         moderate           3990   \n",
       "130   24    0    2     own             NaN         moderate           8487   \n",
       "\n",
       "     Duration              Purpose  \n",
       "828        36                  car  \n",
       "997        12             radio/TV  \n",
       "148        36  furniture/equipment  \n",
       "735        36  domestic appliances  \n",
       "130        48                  car  "
      ]
     },
     "execution_count": 18,
     "metadata": {},
     "output_type": "execute_result"
    }
   ],
   "source": [
    "X_train.head()"
   ]
  },
  {
   "cell_type": "markdown",
   "metadata": {},
   "source": [
    "Checking missing values."
   ]
  },
  {
   "cell_type": "code",
   "execution_count": 19,
   "metadata": {},
   "outputs": [
    {
     "data": {
      "text/plain": [
       "Age                   0\n",
       "Sex                   0\n",
       "Job                   0\n",
       "Housing               0\n",
       "Saving accounts     144\n",
       "Checking account    316\n",
       "Credit amount         0\n",
       "Duration              0\n",
       "Purpose               0\n",
       "dtype: int64"
      ]
     },
     "execution_count": 19,
     "metadata": {},
     "output_type": "execute_result"
    }
   ],
   "source": [
    "X_train.isna().sum()"
   ]
  },
  {
   "cell_type": "markdown",
   "metadata": {},
   "source": [
    "Checking numerical features."
   ]
  },
  {
   "cell_type": "code",
   "execution_count": 20,
   "metadata": {},
   "outputs": [
    {
     "name": "stdout",
     "output_type": "stream",
     "text": [
      "There are 5 numerical features. They are: ['Age', 'Sex', 'Job', 'Credit amount', 'Duration']\n"
     ]
    }
   ],
   "source": [
    "numerical_features = X_train.select_dtypes('number').columns.to_list()\n",
    "print(f'There are {len(numerical_features)} numerical features. They are: {numerical_features}')"
   ]
  },
  {
   "cell_type": "markdown",
   "metadata": {},
   "source": [
    "Checking categorical features cardinality and unique values."
   ]
  },
  {
   "cell_type": "code",
   "execution_count": 21,
   "metadata": {},
   "outputs": [
    {
     "name": "stdout",
     "output_type": "stream",
     "text": [
      "There are 4 categorical features. They are: ['Housing', 'Saving accounts', 'Checking account', 'Purpose']\n",
      "\n",
      "Housing\n",
      "Number of categories: 3. They are:\n",
      "['free' 'own' 'rent']\n",
      "\n",
      "Saving accounts\n",
      "Number of categories: 4. They are:\n",
      "[nan 'little' 'moderate' 'rich' 'quite rich']\n",
      "\n",
      "Checking account\n",
      "Number of categories: 3. They are:\n",
      "['little' nan 'moderate' 'rich']\n",
      "\n",
      "Purpose\n",
      "Number of categories: 8. They are:\n",
      "['car' 'radio/TV' 'furniture/equipment' 'domestic appliances' 'education'\n",
      " 'repairs' 'vacation/others' 'business']\n",
      "\n"
     ]
    }
   ],
   "source": [
    "categorical_features = X_train.select_dtypes('object').columns.to_list()\n",
    "\n",
    "print(f'There are {len(categorical_features)} categorical features. They are: {categorical_features}')\n",
    "print()\n",
    "\n",
    "for feature in categorical_features:\n",
    "    print(feature)\n",
    "    print(f'Number of categories: {X_train[feature].nunique()}. They are:')\n",
    "    print(X_train[feature].unique())\n",
    "    print()"
   ]
  },
  {
   "cell_type": "markdown",
   "metadata": {},
   "source": [
    "I will build the preprocessor below. As I intend to test different algorithms, the same preprocessor will be used for tree-based models and scale sensitive models. Moreover, I will apply the techniques that I've mentioned above."
   ]
  },
  {
   "cell_type": "code",
   "execution_count": 22,
   "metadata": {},
   "outputs": [],
   "source": [
    "target_encoder_features = ['Saving accounts', 'Checking account']\n",
    "ordinal_encoder_features = ['Purpose', 'Housing']"
   ]
  },
  {
   "cell_type": "code",
   "execution_count": 23,
   "metadata": {},
   "outputs": [],
   "source": [
    "ordinal_pipeline = Pipeline(\n",
    "    steps=[\n",
    "        ('imputer', SimpleImputer(strategy='most_frequent')), \n",
    "        ('ordinal_encoder', OrdinalEncoder()),\n",
    "        ('std_scaler', StandardScaler())\n",
    "        ]\n",
    "        )\n",
    "\n",
    "target_pipeline = Pipeline(\n",
    "    steps=[\n",
    "        ('target_encoder',TargetEncoder(cols=target_encoder_features)), \n",
    "        ('std_scaler', StandardScaler())\n",
    "        ]\n",
    "        )\n",
    "\n",
    "preprocessor = ColumnTransformer(\n",
    "    transformers=[\n",
    "        ('ordinal', ordinal_pipeline, ordinal_encoder_features),\n",
    "        ('target', target_pipeline, target_encoder_features),\n",
    "        ('std_scaler', StandardScaler(), numerical_features)\n",
    "        ], remainder='passthrough'\n",
    "        )"
   ]
  },
  {
   "cell_type": "code",
   "execution_count": 24,
   "metadata": {},
   "outputs": [
    {
     "data": {
      "text/plain": [
       "(800, 9)"
      ]
     },
     "execution_count": 24,
     "metadata": {},
     "output_type": "execute_result"
    }
   ],
   "source": [
    "X_train_prepared = preprocessor.fit_transform(X_train, y_train)\n",
    "X_train_prepared.shape"
   ]
  },
  {
   "cell_type": "markdown",
   "metadata": {},
   "source": [
    "# 6. Model training, comparison, selection and tuning\n",
    "- In this step, I intend to compare different models performances. In order to achieve this, I will use stratified k-fold cross validation to train each one of them and evaluate their ROC-AUC score. Accuracy is not a good metric because the target is imbalanced. Moreover, stratified k-fold cross validation will maintain the target proportion on each fold, dealing with the imbalanced target as well.\n",
    "- <b>K-fold cross-validation</b> is a technique used in machine learning to assess the performance of a model. It involves dividing the dataset into K subsets, using K-1 for training and one for testing iteratively. This helps in estimating a model's generalization ability by reducing the risk of overfitting and providing more reliable performance metrics.<br>\n",
    "- My objective here is to select a best model to go for hyperparameter tuning. In order to get this best model, I will evaluate the highest roc-auc average validation scores and look at the bias-variance trade-off.\n",
    "- After selecting a model, I will tune its hyperparameters.\n",
    "<br>\n",
    "- <b>Hyperparameter tuning</b> refers to the process of selecting the optimal hyperparameters for a machine learning model. Hyperparameters are parameters that are set before the model is trained and directly influence its performance but are not learned from the data."
   ]
  },
  {
   "cell_type": "markdown",
   "metadata": {},
   "source": [
    "Training the models and comparing their performances (roc-auc score) with stratified k-fold cross validation in order to choose one of them for hyperparameter tuning."
   ]
  },
  {
   "cell_type": "code",
   "execution_count": 25,
   "metadata": {},
   "outputs": [],
   "source": [
    "models = {\n",
    "    'Logistic Regression': LogisticRegression(),\n",
    "    'Linear SVM': LinearSVC(),\n",
    "    'SVM': SVC(),\n",
    "    'K-Nearest Neighbors': KNeighborsClassifier(),\n",
    "    'Random Forest': RandomForestClassifier(),\n",
    "    'XGBoost': XGBClassifier()\n",
    "}"
   ]
  },
  {
   "cell_type": "code",
   "execution_count": 26,
   "metadata": {},
   "outputs": [
    {
     "name": "stdout",
     "output_type": "stream",
     "text": [
      "Logistic Regression results: \n",
      "--------------------------------------------------\n",
      "Training score: 0.6407738095238096\n",
      "Average validation score: 0.7561755952380952\n",
      "Standard deviation: 0.05039534545754632\n",
      "Training time: 0.15462 seconds\n",
      "\n",
      "Linear SVM results: \n",
      "--------------------------------------------------\n",
      "Training score: 0.637202380952381\n",
      "Average validation score: 0.7556919642857143\n",
      "Standard deviation: 0.04836389651350881\n",
      "Training time: 0.05422 seconds\n",
      "\n"
     ]
    },
    {
     "name": "stdout",
     "output_type": "stream",
     "text": [
      "SVM results: \n",
      "--------------------------------------------------\n",
      "Training score: 0.687797619047619\n",
      "Average validation score: 0.7375744047619048\n",
      "Standard deviation: 0.03108445380154829\n",
      "Training time: 0.10607 seconds\n",
      "\n",
      "K-Nearest Neighbors results: \n",
      "--------------------------------------------------\n",
      "Training score: 0.7413690476190476\n",
      "Average validation score: 0.6764508928571429\n",
      "Standard deviation: 0.05469140357990755\n",
      "Training time: 0.0794 seconds\n",
      "\n",
      "Random Forest results: \n",
      "--------------------------------------------------\n",
      "Training score: 1.0\n",
      "Average validation score: 0.7481956845238096\n",
      "Standard deviation: 0.049090391882840125\n",
      "Training time: 0.39291 seconds\n",
      "\n",
      "XGBoost results: \n",
      "--------------------------------------------------\n",
      "Training score: 1.0\n",
      "Average validation score: 0.7303943452380952\n",
      "Standard deviation: 0.03350705918142098\n",
      "Training time: 1.17516 seconds\n",
      "\n",
      "Plotting the results: \n"
     ]
    },
    {
     "data": {
      "image/png": "[encoded data removed]",
      "text/plain": [
       "<Figure size 1500x600 with 1 Axes>"
      ]
     },
     "metadata": {},
     "output_type": "display_data"
    }
   ],
   "source": [
    "eval_df = evaluate_models_cv(models=models, X_train=X_train_prepared, y_train=y_train)"
   ]
  },
  {
   "cell_type": "code",
   "execution_count": 27,
   "metadata": {},
   "outputs": [
    {
     "data": {
      "text/html": [
       "<div>\n",
       "<style scoped>\n",
       "    .dataframe tbody tr th:only-of-type {\n",
       "        vertical-align: middle;\n",
       "    }\n",
       "\n",
       "    .dataframe tbody tr th {\n",
       "        vertical-align: top;\n",
       "    }\n",
       "\n",
       "    .dataframe thead th {\n",
       "        text-align: right;\n",
       "    }\n",
       "</style>\n",
       "<table border=\"1\" class=\"dataframe\">\n",
       "  <thead>\n",
       "    <tr style=\"text-align: right;\">\n",
       "      <th></th>\n",
       "      <th>Model</th>\n",
       "      <th>Average Val Score</th>\n",
       "      <th>Train Score</th>\n",
       "    </tr>\n",
       "  </thead>\n",
       "  <tbody>\n",
       "    <tr>\n",
       "      <th>0</th>\n",
       "      <td>Logistic Regression</td>\n",
       "      <td>0.756176</td>\n",
       "      <td>0.640774</td>\n",
       "    </tr>\n",
       "    <tr>\n",
       "      <th>1</th>\n",
       "      <td>Linear SVM</td>\n",
       "      <td>0.755692</td>\n",
       "      <td>0.637202</td>\n",
       "    </tr>\n",
       "    <tr>\n",
       "      <th>4</th>\n",
       "      <td>Random Forest</td>\n",
       "      <td>0.748196</td>\n",
       "      <td>1.000000</td>\n",
       "    </tr>\n",
       "    <tr>\n",
       "      <th>2</th>\n",
       "      <td>SVM</td>\n",
       "      <td>0.737574</td>\n",
       "      <td>0.687798</td>\n",
       "    </tr>\n",
       "    <tr>\n",
       "      <th>5</th>\n",
       "      <td>XGBoost</td>\n",
       "      <td>0.730394</td>\n",
       "      <td>1.000000</td>\n",
       "    </tr>\n",
       "    <tr>\n",
       "      <th>3</th>\n",
       "      <td>K-Nearest Neighbors</td>\n",
       "      <td>0.676451</td>\n",
       "      <td>0.741369</td>\n",
       "    </tr>\n",
       "  </tbody>\n",
       "</table>\n",
       "</div>"
      ],
      "text/plain": [
       "                 Model  Average Val Score  Train Score\n",
       "0  Logistic Regression           0.756176     0.640774\n",
       "1           Linear SVM           0.755692     0.637202\n",
       "4        Random Forest           0.748196     1.000000\n",
       "2                  SVM           0.737574     0.687798\n",
       "5              XGBoost           0.730394     1.000000\n",
       "3  K-Nearest Neighbors           0.676451     0.741369"
      ]
     },
     "execution_count": 27,
     "metadata": {},
     "output_type": "execute_result"
    }
   ],
   "source": [
    "eval_df.sort_values(['Average Val Score'], ascending=False)"
   ]
  },
  {
   "cell_type": "markdown",
   "metadata": {},
   "source": [
    "Logistic Regression presents the highest average validation ROC-AUC score. Furthermore, Random Forest is overfitting. There is a significant difference between its validation and training errors. In fact, the training error is zero. Thus, the Random Forest model exhibits low bias and high variance, and since its mean validation score is only slightly lower than that of Logistic Regression, I will choose it for hyperparameter tuning and final model evaluation because there is more room for performance improvement (due to the overfit)."
   ]
  },
  {
   "cell_type": "markdown",
   "metadata": {},
   "source": [
    "### Hyperparameter tuning\n",
    "As I intend to tune Random Forest model, I won't use GridSearchCV.\n",
    "\n",
    "<b>Why not use grid search?</b> \n",
    "- Using grid search CV to tune Random Forest can be problematic due to its computational expense, limitations in granularity and adaptability, lack of consideration for interaction effects, inefficient exploration of the hyperparameter space, and inefficient allocation of computational resources. \n",
    "- Grid search exhaustively searches through all combinations of specified hyperparameters, it does not adapt its search based on the observed performance of previous hyperparameter configurations. Also, hyperparameters in Random Forest can have complex interactions, where the impact of one hyperparameter depends on the values of others. Grid search does not explicitly consider these interactions and evaluates hyperparameters independently. \n",
    "<br>\n",
    "\n",
    "Considering this, I will tune Random Forest using Bayesian Optimization.\n",
    "\n",
    "<b>What is Bayesian Optimization?</b>\n",
    "-  Bayesian optimization is an efficient and adaptive technique for finding the optimal combination of hyperparameters for a machine learning model. It uses probabilistic models to intelligently explore the hyperparameter space, balancing exploration and exploitation."
   ]
  },
  {
   "cell_type": "markdown",
   "metadata": {},
   "source": [
    "An important point here is to define class_weight hyperparameter. Then, the algorithm will assign different weights for the target's minority (bad risk) and majority (good risk) class instances. Thus, the model will be penalized when mistakenly predicting a bad risk customer and also be able to better learn the patterns in minority class data samples."
   ]
  },
  {
   "cell_type": "code",
   "execution_count": 28,
   "metadata": {},
   "outputs": [],
   "source": [
    "n_folds = 5\n",
    "stratified_kfold = StratifiedKFold(n_splits=n_folds, shuffle=True, random_state=42)\n",
    "\n",
    "search_space = {\n",
    "    'n_estimators': Integer(100, 700),\n",
    "    'criterion': Categorical(['gini', 'entropy', 'log_loss']),\n",
    "    'max_depth': Integer(2, 16),\n",
    "    'min_samples_split': Integer(2, 50),\n",
    "    'min_samples_leaf': Integer(2, 25),\n",
    "    'bootstrap': Categorical([True, False]),\n",
    "    'class_weight': Categorical(['balanced', 'balanced_subsample']),\n",
    "    'max_features': Categorical(['sqrt', 'log2', None])\n",
    "}\n",
    "\n",
    "bayesian_search = BayesSearchCV(estimator=RandomForestClassifier(), search_spaces=search_space, cv=stratified_kfold, n_iter=50, scoring='roc_auc', return_train_score=True, random_state=42)"
   ]
  },
  {
   "cell_type": "code",
   "execution_count": 29,
   "metadata": {},
   "outputs": [
    {
     "data": {
      "text/html": [
       "<style>#sk-container-id-1 {color: black;}#sk-container-id-1 pre{padding: 0;}#sk-container-id-1 div.sk-toggleable {background-color: white;}#sk-container-id-1 label.sk-toggleable__label {cursor: pointer;display: block;width: 100%;margin-bottom: 0;padding: 0.3em;box-sizing: border-box;text-align: center;}#sk-container-id-1 label.sk-toggleable__label-arrow:before {content: \"▸\";float: left;margin-right: 0.25em;color: #696969;}#sk-container-id-1 label.sk-toggleable__label-arrow:hover:before {color: black;}#sk-container-id-1 div.sk-estimator:hover label.sk-toggleable__label-arrow:before {color: black;}#sk-container-id-1 div.sk-toggleable__content {max-height: 0;max-width: 0;overflow: hidden;text-align: left;background-color: #f0f8ff;}#sk-container-id-1 div.sk-toggleable__content pre {margin: 0.2em;color: black;border-radius: 0.25em;background-color: #f0f8ff;}#sk-container-id-1 input.sk-toggleable__control:checked~div.sk-toggleable__content {max-height: 200px;max-width: 100%;overflow: auto;}#sk-container-id-1 input.sk-toggleable__control:checked~label.sk-toggleable__label-arrow:before {content: \"▾\";}#sk-container-id-1 div.sk-estimator input.sk-toggleable__control:checked~label.sk-toggleable__label {background-color: #d4ebff;}#sk-container-id-1 div.sk-label input.sk-toggleable__control:checked~label.sk-toggleable__label {background-color: #d4ebff;}#sk-container-id-1 input.sk-hidden--visually {border: 0;clip: rect(1px 1px 1px 1px);clip: rect(1px, 1px, 1px, 1px);height: 1px;margin: -1px;overflow: hidden;padding: 0;position: absolute;width: 1px;}#sk-container-id-1 div.sk-estimator {font-family: monospace;background-color: #f0f8ff;border: 1px dotted black;border-radius: 0.25em;box-sizing: border-box;margin-bottom: 0.5em;}#sk-container-id-1 div.sk-estimator:hover {background-color: #d4ebff;}#sk-container-id-1 div.sk-parallel-item::after {content: \"\";width: 100%;border-bottom: 1px solid gray;flex-grow: 1;}#sk-container-id-1 div.sk-label:hover label.sk-toggleable__label {background-color: #d4ebff;}#sk-container-id-1 div.sk-serial::before {content: \"\";position: absolute;border-left: 1px solid gray;box-sizing: border-box;top: 0;bottom: 0;left: 50%;z-index: 0;}#sk-container-id-1 div.sk-serial {display: flex;flex-direction: column;align-items: center;background-color: white;padding-right: 0.2em;padding-left: 0.2em;position: relative;}#sk-container-id-1 div.sk-item {position: relative;z-index: 1;}#sk-container-id-1 div.sk-parallel {display: flex;align-items: stretch;justify-content: center;background-color: white;position: relative;}#sk-container-id-1 div.sk-item::before, #sk-container-id-1 div.sk-parallel-item::before {content: \"\";position: absolute;border-left: 1px solid gray;box-sizing: border-box;top: 0;bottom: 0;left: 50%;z-index: -1;}#sk-container-id-1 div.sk-parallel-item {display: flex;flex-direction: column;z-index: 1;position: relative;background-color: white;}#sk-container-id-1 div.sk-parallel-item:first-child::after {align-self: flex-end;width: 50%;}#sk-container-id-1 div.sk-parallel-item:last-child::after {align-self: flex-start;width: 50%;}#sk-container-id-1 div.sk-parallel-item:only-child::after {width: 0;}#sk-container-id-1 div.sk-dashed-wrapped {border: 1px dashed gray;margin: 0 0.4em 0.5em 0.4em;box-sizing: border-box;padding-bottom: 0.4em;background-color: white;}#sk-container-id-1 div.sk-label label {font-family: monospace;font-weight: bold;display: inline-block;line-height: 1.2em;}#sk-container-id-1 div.sk-label-container {text-align: center;}#sk-container-id-1 div.sk-container {/* jupyter's `normalize.less` sets `[hidden] { display: none; }` but bootstrap.min.css set `[hidden] { display: none !important; }` so we also need the `!important` here to be able to override the default hidden behavior on the sphinx rendered scikit-learn.org. See: https://github.com/scikit-learn/scikit-learn/issues/21755 */display: inline-block !important;position: relative;}#sk-container-id-1 div.sk-text-repr-fallback {display: none;}</style><div id=\"sk-container-id-1\" class=\"sk-top-container\"><div class=\"sk-text-repr-fallback\"><pre>BayesSearchCV(cv=StratifiedKFold(n_splits=5, random_state=42, shuffle=True),\n",
       "              estimator=RandomForestClassifier(), random_state=42,\n",
       "              return_train_score=True, scoring=&#x27;roc_auc&#x27;,\n",
       "              search_spaces={&#x27;bootstrap&#x27;: Categorical(categories=(True, False), prior=None),\n",
       "                             &#x27;class_weight&#x27;: Categorical(categories=(&#x27;balanced&#x27;, &#x27;balanced_subsample&#x27;), prior=None),\n",
       "                             &#x27;criterion&#x27;: Categorical(...\n",
       "                             &#x27;max_depth&#x27;: Integer(low=2, high=16, prior=&#x27;uniform&#x27;, transform=&#x27;normalize&#x27;),\n",
       "                             &#x27;max_features&#x27;: Categorical(categories=(&#x27;sqrt&#x27;, &#x27;log2&#x27;, None), prior=None),\n",
       "                             &#x27;min_samples_leaf&#x27;: Integer(low=2, high=25, prior=&#x27;uniform&#x27;, transform=&#x27;normalize&#x27;),\n",
       "                             &#x27;min_samples_split&#x27;: Integer(low=2, high=50, prior=&#x27;uniform&#x27;, transform=&#x27;normalize&#x27;),\n",
       "                             &#x27;n_estimators&#x27;: Integer(low=100, high=700, prior=&#x27;uniform&#x27;, transform=&#x27;normalize&#x27;)})</pre><b>In a Jupyter environment, please rerun this cell to show the HTML representation or trust the notebook. <br />On GitHub, the HTML representation is unable to render, please try loading this page with nbviewer.org.</b></div><div class=\"sk-container\" hidden><div class=\"sk-item sk-dashed-wrapped\"><div class=\"sk-label-container\"><div class=\"sk-label sk-toggleable\"><input class=\"sk-toggleable__control sk-hidden--visually\" id=\"sk-estimator-id-1\" type=\"checkbox\" ><label for=\"sk-estimator-id-1\" class=\"sk-toggleable__label sk-toggleable__label-arrow\">BayesSearchCV</label><div class=\"sk-toggleable__content\"><pre>BayesSearchCV(cv=StratifiedKFold(n_splits=5, random_state=42, shuffle=True),\n",
       "              estimator=RandomForestClassifier(), random_state=42,\n",
       "              return_train_score=True, scoring=&#x27;roc_auc&#x27;,\n",
       "              search_spaces={&#x27;bootstrap&#x27;: Categorical(categories=(True, False), prior=None),\n",
       "                             &#x27;class_weight&#x27;: Categorical(categories=(&#x27;balanced&#x27;, &#x27;balanced_subsample&#x27;), prior=None),\n",
       "                             &#x27;criterion&#x27;: Categorical(...\n",
       "                             &#x27;max_depth&#x27;: Integer(low=2, high=16, prior=&#x27;uniform&#x27;, transform=&#x27;normalize&#x27;),\n",
       "                             &#x27;max_features&#x27;: Categorical(categories=(&#x27;sqrt&#x27;, &#x27;log2&#x27;, None), prior=None),\n",
       "                             &#x27;min_samples_leaf&#x27;: Integer(low=2, high=25, prior=&#x27;uniform&#x27;, transform=&#x27;normalize&#x27;),\n",
       "                             &#x27;min_samples_split&#x27;: Integer(low=2, high=50, prior=&#x27;uniform&#x27;, transform=&#x27;normalize&#x27;),\n",
       "                             &#x27;n_estimators&#x27;: Integer(low=100, high=700, prior=&#x27;uniform&#x27;, transform=&#x27;normalize&#x27;)})</pre></div></div></div><div class=\"sk-parallel\"><div class=\"sk-parallel-item\"><div class=\"sk-item\"><div class=\"sk-label-container\"><div class=\"sk-label sk-toggleable\"><input class=\"sk-toggleable__control sk-hidden--visually\" id=\"sk-estimator-id-2\" type=\"checkbox\" ><label for=\"sk-estimator-id-2\" class=\"sk-toggleable__label sk-toggleable__label-arrow\">estimator: RandomForestClassifier</label><div class=\"sk-toggleable__content\"><pre>RandomForestClassifier()</pre></div></div></div><div class=\"sk-serial\"><div class=\"sk-item\"><div class=\"sk-estimator sk-toggleable\"><input class=\"sk-toggleable__control sk-hidden--visually\" id=\"sk-estimator-id-3\" type=\"checkbox\" ><label for=\"sk-estimator-id-3\" class=\"sk-toggleable__label sk-toggleable__label-arrow\">RandomForestClassifier</label><div class=\"sk-toggleable__content\"><pre>RandomForestClassifier()</pre></div></div></div></div></div></div></div></div></div></div>"
      ],
      "text/plain": [
       "BayesSearchCV(cv=StratifiedKFold(n_splits=5, random_state=42, shuffle=True),\n",
       "              estimator=RandomForestClassifier(), random_state=42,\n",
       "              return_train_score=True, scoring='roc_auc',\n",
       "              search_spaces={'bootstrap': Categorical(categories=(True, False), prior=None),\n",
       "                             'class_weight': Categorical(categories=('balanced', 'balanced_subsample'), prior=None),\n",
       "                             'criterion': Categorical(...\n",
       "                             'max_depth': Integer(low=2, high=16, prior='uniform', transform='normalize'),\n",
       "                             'max_features': Categorical(categories=('sqrt', 'log2', None), prior=None),\n",
       "                             'min_samples_leaf': Integer(low=2, high=25, prior='uniform', transform='normalize'),\n",
       "                             'min_samples_split': Integer(low=2, high=50, prior='uniform', transform='normalize'),\n",
       "                             'n_estimators': Integer(low=100, high=700, prior='uniform', transform='normalize')})"
      ]
     },
     "execution_count": 29,
     "metadata": {},
     "output_type": "execute_result"
    }
   ],
   "source": [
    "bayesian_search.fit(X_train_prepared, y_train)"
   ]
  },
  {
   "cell_type": "code",
   "execution_count": 30,
   "metadata": {},
   "outputs": [
    {
     "name": "stdout",
     "output_type": "stream",
     "text": [
      "The best params fund for Random Forest are: \n"
     ]
    },
    {
     "data": {
      "text/plain": [
       "OrderedDict([('bootstrap', True),\n",
       "             ('class_weight', 'balanced'),\n",
       "             ('criterion', 'log_loss'),\n",
       "             ('max_depth', 8),\n",
       "             ('max_features', 'sqrt'),\n",
       "             ('min_samples_leaf', 9),\n",
       "             ('min_samples_split', 3),\n",
       "             ('n_estimators', 332)])"
      ]
     },
     "execution_count": 30,
     "metadata": {},
     "output_type": "execute_result"
    }
   ],
   "source": [
    "print(f'The best params fund for Random Forest are: ')\n",
    "bayesian_search.best_params_"
   ]
  },
  {
   "cell_type": "markdown",
   "metadata": {},
   "source": [
    "Let's take a look into some results obtained by the bayesian search cv, specially for important parameters like class_weight, criterion, max_depth, min_samples_leaf, min_samples_split and n_estimators."
   ]
  },
  {
   "cell_type": "code",
   "execution_count": 31,
   "metadata": {},
   "outputs": [
    {
     "data": {
      "text/html": [
       "<div>\n",
       "<style scoped>\n",
       "    .dataframe tbody tr th:only-of-type {\n",
       "        vertical-align: middle;\n",
       "    }\n",
       "\n",
       "    .dataframe tbody tr th {\n",
       "        vertical-align: top;\n",
       "    }\n",
       "\n",
       "    .dataframe thead th {\n",
       "        text-align: right;\n",
       "    }\n",
       "</style>\n",
       "<table border=\"1\" class=\"dataframe\">\n",
       "  <thead>\n",
       "    <tr style=\"text-align: right;\">\n",
       "      <th></th>\n",
       "      <th>rank_test_score</th>\n",
       "      <th>mean_test_score</th>\n",
       "      <th>mean_train_score</th>\n",
       "      <th>param_class_weight</th>\n",
       "      <th>param_criterion</th>\n",
       "      <th>param_max_depth</th>\n",
       "      <th>param_min_samples_leaf</th>\n",
       "      <th>param_min_samples_split</th>\n",
       "      <th>param_n_estimators</th>\n",
       "    </tr>\n",
       "  </thead>\n",
       "  <tbody>\n",
       "    <tr>\n",
       "      <th>38</th>\n",
       "      <td>1</td>\n",
       "      <td>0.768118</td>\n",
       "      <td>0.885707</td>\n",
       "      <td>balanced</td>\n",
       "      <td>log_loss</td>\n",
       "      <td>8</td>\n",
       "      <td>9</td>\n",
       "      <td>3</td>\n",
       "      <td>332</td>\n",
       "    </tr>\n",
       "    <tr>\n",
       "      <th>8</th>\n",
       "      <td>2</td>\n",
       "      <td>0.766257</td>\n",
       "      <td>0.903764</td>\n",
       "      <td>balanced_subsample</td>\n",
       "      <td>log_loss</td>\n",
       "      <td>8</td>\n",
       "      <td>7</td>\n",
       "      <td>2</td>\n",
       "      <td>322</td>\n",
       "    </tr>\n",
       "    <tr>\n",
       "      <th>49</th>\n",
       "      <td>3</td>\n",
       "      <td>0.766183</td>\n",
       "      <td>0.885861</td>\n",
       "      <td>balanced_subsample</td>\n",
       "      <td>gini</td>\n",
       "      <td>9</td>\n",
       "      <td>8</td>\n",
       "      <td>23</td>\n",
       "      <td>686</td>\n",
       "    </tr>\n",
       "    <tr>\n",
       "      <th>48</th>\n",
       "      <td>4</td>\n",
       "      <td>0.766109</td>\n",
       "      <td>0.939830</td>\n",
       "      <td>balanced_subsample</td>\n",
       "      <td>log_loss</td>\n",
       "      <td>16</td>\n",
       "      <td>5</td>\n",
       "      <td>12</td>\n",
       "      <td>700</td>\n",
       "    </tr>\n",
       "    <tr>\n",
       "      <th>3</th>\n",
       "      <td>5</td>\n",
       "      <td>0.765774</td>\n",
       "      <td>0.875963</td>\n",
       "      <td>balanced</td>\n",
       "      <td>gini</td>\n",
       "      <td>13</td>\n",
       "      <td>4</td>\n",
       "      <td>38</td>\n",
       "      <td>624</td>\n",
       "    </tr>\n",
       "    <tr>\n",
       "      <th>12</th>\n",
       "      <td>6</td>\n",
       "      <td>0.765662</td>\n",
       "      <td>0.925332</td>\n",
       "      <td>balanced</td>\n",
       "      <td>entropy</td>\n",
       "      <td>9</td>\n",
       "      <td>2</td>\n",
       "      <td>19</td>\n",
       "      <td>700</td>\n",
       "    </tr>\n",
       "    <tr>\n",
       "      <th>32</th>\n",
       "      <td>7</td>\n",
       "      <td>0.765476</td>\n",
       "      <td>0.819747</td>\n",
       "      <td>balanced</td>\n",
       "      <td>log_loss</td>\n",
       "      <td>16</td>\n",
       "      <td>25</td>\n",
       "      <td>2</td>\n",
       "      <td>700</td>\n",
       "    </tr>\n",
       "    <tr>\n",
       "      <th>25</th>\n",
       "      <td>8</td>\n",
       "      <td>0.765216</td>\n",
       "      <td>0.819766</td>\n",
       "      <td>balanced_subsample</td>\n",
       "      <td>entropy</td>\n",
       "      <td>16</td>\n",
       "      <td>25</td>\n",
       "      <td>2</td>\n",
       "      <td>700</td>\n",
       "    </tr>\n",
       "    <tr>\n",
       "      <th>6</th>\n",
       "      <td>8</td>\n",
       "      <td>0.765216</td>\n",
       "      <td>0.845061</td>\n",
       "      <td>balanced_subsample</td>\n",
       "      <td>gini</td>\n",
       "      <td>14</td>\n",
       "      <td>16</td>\n",
       "      <td>33</td>\n",
       "      <td>353</td>\n",
       "    </tr>\n",
       "    <tr>\n",
       "      <th>46</th>\n",
       "      <td>10</td>\n",
       "      <td>0.764881</td>\n",
       "      <td>0.830322</td>\n",
       "      <td>balanced_subsample</td>\n",
       "      <td>gini</td>\n",
       "      <td>5</td>\n",
       "      <td>17</td>\n",
       "      <td>16</td>\n",
       "      <td>102</td>\n",
       "    </tr>\n",
       "  </tbody>\n",
       "</table>\n",
       "</div>"
      ],
      "text/plain": [
       "    rank_test_score  mean_test_score  mean_train_score  param_class_weight   \n",
       "38                1         0.768118          0.885707            balanced  \\\n",
       "8                 2         0.766257          0.903764  balanced_subsample   \n",
       "49                3         0.766183          0.885861  balanced_subsample   \n",
       "48                4         0.766109          0.939830  balanced_subsample   \n",
       "3                 5         0.765774          0.875963            balanced   \n",
       "12                6         0.765662          0.925332            balanced   \n",
       "32                7         0.765476          0.819747            balanced   \n",
       "25                8         0.765216          0.819766  balanced_subsample   \n",
       "6                 8         0.765216          0.845061  balanced_subsample   \n",
       "46               10         0.764881          0.830322  balanced_subsample   \n",
       "\n",
       "   param_criterion param_max_depth param_min_samples_leaf   \n",
       "38        log_loss               8                      9  \\\n",
       "8         log_loss               8                      7   \n",
       "49            gini               9                      8   \n",
       "48        log_loss              16                      5   \n",
       "3             gini              13                      4   \n",
       "12         entropy               9                      2   \n",
       "32        log_loss              16                     25   \n",
       "25         entropy              16                     25   \n",
       "6             gini              14                     16   \n",
       "46            gini               5                     17   \n",
       "\n",
       "   param_min_samples_split param_n_estimators  \n",
       "38                       3                332  \n",
       "8                        2                322  \n",
       "49                      23                686  \n",
       "48                      12                700  \n",
       "3                       38                624  \n",
       "12                      19                700  \n",
       "32                       2                700  \n",
       "25                       2                700  \n",
       "6                       33                353  \n",
       "46                      16                102  "
      ]
     },
     "execution_count": 31,
     "metadata": {},
     "output_type": "execute_result"
    }
   ],
   "source": [
    "bayesian_search_results = pd.DataFrame(bayesian_search.cv_results_)\n",
    "bayesian_search_results = bayesian_search_results[['rank_test_score', 'mean_test_score', \n",
    "'mean_train_score', 'param_class_weight', \n",
    "'param_criterion', 'param_max_depth', \n",
    "'param_min_samples_leaf', 'param_min_samples_split', \n",
    "'param_n_estimators']]\n",
    "bayesian_search_results.sort_values(['rank_test_score']).head(10)"
   ]
  },
  {
   "cell_type": "markdown",
   "metadata": {},
   "source": [
    "# 7. Final production model testing and evaluation\n",
    "- In this step, I intend to evaluate our final tuned model on test data (simulating production unseen data).\n",
    "- Once I am facing a binary classification problem with an imbalanced target, recall is the most important metric. I want my model to identify as many as possible bad risk customers. Therefore, we can be more flexible with lower precision values, as false positives (customers who are good risk but were classified as bad risk) will not cause many issues for the bank.\n",
    "- Moreover, I will look at precision-recall trade-off to see wheter there is space for recall metric improvement without significantly compromising the precision score. This is a good strategy when dealing with imbalanced data.\n",
    "- By identifying a large portion of the bad risk customers, the bank can make informed decisions, balancing profit generation and prudent risk management and minimizing potential financial losses caused when a borrower fail to pay his credit obligations. This is the main objective of the project."
   ]
  },
  {
   "cell_type": "markdown",
   "metadata": {},
   "source": [
    "Getting the final tuned Random Forest model."
   ]
  },
  {
   "cell_type": "code",
   "execution_count": 32,
   "metadata": {},
   "outputs": [],
   "source": [
    "final_rf_clf = bayesian_search.best_estimator_"
   ]
  },
  {
   "cell_type": "markdown",
   "metadata": {},
   "source": [
    "Using the preprocessor to transform the test predictor set. By applying just transform we avoid data leakage."
   ]
  },
  {
   "cell_type": "code",
   "execution_count": 33,
   "metadata": {},
   "outputs": [
    {
     "data": {
      "text/plain": [
       "(200, 9)"
      ]
     },
     "execution_count": 33,
     "metadata": {},
     "output_type": "execute_result"
    }
   ],
   "source": [
    "X_test_prepared = preprocessor.transform(X_test)\n",
    "X_test_prepared.shape"
   ]
  },
  {
   "cell_type": "markdown",
   "metadata": {},
   "source": [
    "Making predictions."
   ]
  },
  {
   "cell_type": "code",
   "execution_count": 34,
   "metadata": {},
   "outputs": [],
   "source": [
    "final_predictions = final_rf_clf.predict(X_test_prepared)"
   ]
  },
  {
   "cell_type": "markdown",
   "metadata": {},
   "source": [
    "### Evaluating the final tuned Random Forest model."
   ]
  },
  {
   "cell_type": "code",
   "execution_count": 35,
   "metadata": {},
   "outputs": [
    {
     "name": "stdout",
     "output_type": "stream",
     "text": [
      "              precision    recall  f1-score   support\n",
      "\n",
      "           0       0.83      0.75      0.79       140\n",
      "           1       0.53      0.65      0.58        60\n",
      "\n",
      "    accuracy                           0.72       200\n",
      "   macro avg       0.68      0.70      0.69       200\n",
      "weighted avg       0.74      0.72      0.73       200\n",
      "\n"
     ]
    },
    {
     "data": {
      "image/png": "[encoded data removed]",
      "text/plain": [
       "<Figure size 640x480 with 2 Axes>"
      ]
     },
     "metadata": {},
     "output_type": "display_data"
    },
    {
     "data": {
      "image/png": "[encoded data removed]",
      "text/plain": [
       "<Figure size 500x300 with 1 Axes>"
      ]
     },
     "metadata": {},
     "output_type": "display_data"
    }
   ],
   "source": [
    "evaluate_classifier(y_test, final_predictions)"
   ]
  },
  {
   "cell_type": "markdown",
   "metadata": {},
   "source": [
    "<b>The model presents a decent performance!</b>\n",
    "\n",
    "<b>Recall Score (0.65):</b> The recall score (metric of interest for this analysis), also known as the true positive rate or sensitivity, measures the proportion of actual positive cases (bad risk customers) that the model correctly identifies. The model correctly identifies 65% of the bad risk customers. In practical terms, looking at the confusion matrix, this means that it has defined correctly 39 out of 60 bad risk customers.\n",
    "\n",
    "<b>Precision Score (0.53):</b> The precision score quantifies the proportion of correctly predicted positive cases (bad risk customers) out of all instances predicted as positive by the model. Out of all the customers predicted as bad risk, 53% of them actually belong to this class. In practical terms, looking at the confusion matrix, this means that from 74 clients predicted as bad risk, 39 of them are actually risky. Thus, the precision score is not so good. However, predicting good risk customers as bad risk (false positives) will not cause many issues for the bank. Our goal is really to correctly identify a significant portion of bad risk customers, and the model does it.\n",
    "\n",
    "<b>AUC Score (0.70):</b> The AUC (Area Under the Curve) score represents the overall performance of the model in distinguishing between positive (bad risk) and negative (good risk) instances. It measures the probability that the model will rank a randomly chosen positive instance higher than a randomly chosen negative instance. A higher AUC score indicates better performance. With an AUC score of 0.70, the model demonstrates a high ability to differentiate between good and bad risk customers."
   ]
  },
  {
   "cell_type": "markdown",
   "metadata": {},
   "source": [
    "### Interpreting the model results with feature importances\n",
    "I will look at <b>feature importances</b> below, in order to interpret Random Forest results. An important task when performing supervised learning on a dataset is determining which features provide the most predictive power. By focusing on the relationship between only a few crucial features and the target label we simplify our understanding of the phenomenon, which is most always a useful thing to do.\n",
    "\n",
    "Random Forest calculates feature importances by aggregating the average decrease in impurity (Gini or entropy) across all decision trees in the ensemble. Features that lead to more significant impurity reduction when used for splitting are considered more important. The final importance scores are normalized to sum up to 1 across all features. "
   ]
  },
  {
   "cell_type": "code",
   "execution_count": 36,
   "metadata": {},
   "outputs": [
    {
     "data": {
      "image/png": "[encoded data removed]",
      "text/plain": [
       "<Figure size 1200x300 with 1 Axes>"
      ]
     },
     "metadata": {},
     "output_type": "display_data"
    }
   ],
   "source": [
    "plot_feature_importances(final_rf_clf, df)"
   ]
  },
  {
   "cell_type": "markdown",
   "metadata": {},
   "source": [
    "Housing, Duration, Purpose, Saving accounts and Job are the 5 features with the highest predictive power. I saw on the eda that customers within some Housing, Purpose, Job and Saving accounts categories like free, vacation/others, highly skilled and little presented a tendency of being any of the credit risk labels (bad or good). Furthermore, I also saw that longer durations credit services are associated with higher credit amounts and thus, higher levels of risk. \n",
    "\n",
    "Finally, considering this, the model results are consistent and interpretable. Everything makes sense."
   ]
  },
  {
   "cell_type": "markdown",
   "metadata": {},
   "source": [
    "### Precision vs Recall trade-off\n",
    "- My objective in building the model is to correctly predict as many bad risk customers as possible, such that the bank can make informed decisions and minimize risk when offering its credit services. Thus, I will examine the precision-recall curve to determine whether there is room for enhancing the recall metric without significantly compromising the precision score. This is a typical procedure when handling an imbalanced target in binary classification. Finally, I will do the predictions comparing the estimated probabilities of being bad risk (positive) with the threshold that provides the target recall value. If the estimated probability is greater than the threshold, the instance will be classified as positive, else negative.\n",
    "- <b>Precision-recall trade-off:</b> The precision-recall trade-off involves finding a balance between precision and recall in a classification model. For Random Forest, adjusting the decision threshold can impact this trade-off. Lowering the threshold increases recall but may decrease precision, while raising it has the opposite effect. This trade-off is crucial for optimizing model performance, especially when dealing with imbalanced datasets."
   ]
  },
  {
   "cell_type": "markdown",
   "metadata": {},
   "source": [
    "Getting the model's estimated probabilities."
   ]
  },
  {
   "cell_type": "code",
   "execution_count": 47,
   "metadata": {},
   "outputs": [],
   "source": [
    "predicted_probas = final_rf_clf.predict_proba(X_test_prepared)"
   ]
  },
  {
   "cell_type": "markdown",
   "metadata": {},
   "source": [
    "Plotting precision recall curve for different threshold values."
   ]
  },
  {
   "cell_type": "code",
   "execution_count": 53,
   "metadata": {},
   "outputs": [
    {
     "ename": "IndexError",
     "evalue": "too many indices for array: array is 1-dimensional, but 2 were indexed",
     "output_type": "error",
     "traceback": [
      "\u001b[1;31m---------------------------------------------------------------------------\u001b[0m",
      "\u001b[1;31mIndexError\u001b[0m                                Traceback (most recent call last)",
      "Cell \u001b[1;32mIn[53], line 1\u001b[0m\n\u001b[1;32m----> 1\u001b[0m precision, recall, threshold \u001b[39m=\u001b[39m precision_recall_curve(y_test, predicted_probas)\n",
      "File \u001b[1;32md:\\mlprojects\\creditriskpredictiongermanbank\\notebooks\\modelling_utils.py:214\u001b[0m, in \u001b[0;36mprecision_recall_curve\u001b[1;34m(y_true, predicted_probas)\u001b[0m\n\u001b[0;32m    200\u001b[0m \u001b[39m\u001b[39m\u001b[39m'''\u001b[39;00m\n\u001b[0;32m    201\u001b[0m \u001b[39mGenerate a precision-recall curve based on different threshold values.\u001b[39;00m\n\u001b[0;32m    202\u001b[0m \n\u001b[1;32m   (...)\u001b[0m\n\u001b[0;32m    209\u001b[0m \u001b[39m:rtype: tuple\u001b[39;00m\n\u001b[0;32m    210\u001b[0m \u001b[39m'''\u001b[39;00m\n\u001b[0;32m    212\u001b[0m \u001b[39m# Obtain precision and recall values (arrays) for different threshold\u001b[39;00m\n\u001b[0;32m    213\u001b[0m \u001b[39m# values, when compared to the model's estimated probability of being positive.\u001b[39;00m\n\u001b[1;32m--> 214\u001b[0m precision, recall, threshold \u001b[39m=\u001b[39m precision_recall_curve(y_true, predicted_probas[:, \u001b[39m1\u001b[39m])\n\u001b[0;32m    216\u001b[0m \u001b[39m# Plotting precision-recall curve.\u001b[39;00m\n\u001b[0;32m    217\u001b[0m plt\u001b[39m.\u001b[39mtitle(\u001b[39m'\u001b[39m\u001b[39mPrecision Recall Curve\u001b[39m\u001b[39m'\u001b[39m)\n",
      "File \u001b[1;32md:\\mlprojects\\creditriskpredictiongermanbank\\notebooks\\modelling_utils.py:214\u001b[0m, in \u001b[0;36mprecision_recall_curve\u001b[1;34m(y_true, predicted_probas)\u001b[0m\n\u001b[0;32m    200\u001b[0m \u001b[39m\u001b[39m\u001b[39m'''\u001b[39;00m\n\u001b[0;32m    201\u001b[0m \u001b[39mGenerate a precision-recall curve based on different threshold values.\u001b[39;00m\n\u001b[0;32m    202\u001b[0m \n\u001b[1;32m   (...)\u001b[0m\n\u001b[0;32m    209\u001b[0m \u001b[39m:rtype: tuple\u001b[39;00m\n\u001b[0;32m    210\u001b[0m \u001b[39m'''\u001b[39;00m\n\u001b[0;32m    212\u001b[0m \u001b[39m# Obtain precision and recall values (arrays) for different threshold\u001b[39;00m\n\u001b[0;32m    213\u001b[0m \u001b[39m# values, when compared to the model's estimated probability of being positive.\u001b[39;00m\n\u001b[1;32m--> 214\u001b[0m precision, recall, threshold \u001b[39m=\u001b[39m precision_recall_curve(y_true, predicted_probas[:, \u001b[39m1\u001b[39m])\n\u001b[0;32m    216\u001b[0m \u001b[39m# Plotting precision-recall curve.\u001b[39;00m\n\u001b[0;32m    217\u001b[0m plt\u001b[39m.\u001b[39mtitle(\u001b[39m'\u001b[39m\u001b[39mPrecision Recall Curve\u001b[39m\u001b[39m'\u001b[39m)\n",
      "\u001b[1;31mIndexError\u001b[0m: too many indices for array: array is 1-dimensional, but 2 were indexed"
     ]
    }
   ],
   "source": [
    "precision, recall, threshold = precision_recall_curve(y_test, predicted_probas)"
   ]
  },
  {
   "cell_type": "markdown",
   "metadata": {},
   "source": [
    "There is space for enhancing the recall metric without significantly compromising the precision score."
   ]
  },
  {
   "cell_type": "markdown",
   "metadata": {},
   "source": [
    "Getting the threshold for a 0.8 recall score."
   ]
  },
  {
   "cell_type": "code",
   "execution_count": null,
   "metadata": {},
   "outputs": [
    {
     "name": "stdout",
     "output_type": "stream",
     "text": [
      "For a threshold of 0.396079393065796:\n",
      "Recall: 0.8\n",
      "Precision: 0.4897959183673469\n"
     ]
    }
   ],
   "source": [
    "threshold_precision, threshold_recall, selected_threshold = get_threshold_metrics(precision=precision, \n",
    "recall=recall, threshold=threshold, \n",
    "target_metric='recall', target_metric_value=0.8)"
   ]
  },
  {
   "cell_type": "markdown",
   "metadata": {},
   "source": [
    "Making predictions."
   ]
  },
  {
   "cell_type": "code",
   "execution_count": null,
   "metadata": {},
   "outputs": [],
   "source": [
    "threshold_predictions = (predicted_probas[:, 1] >= selected_threshold).astype(int)"
   ]
  },
  {
   "cell_type": "markdown",
   "metadata": {},
   "source": [
    "Evaluating final model after balancing the precision-recall trade-off."
   ]
  },
  {
   "cell_type": "code",
   "execution_count": null,
   "metadata": {},
   "outputs": [
    {
     "name": "stdout",
     "output_type": "stream",
     "text": [
      "              precision    recall  f1-score   support\n",
      "\n",
      "           0       0.88      0.64      0.74       140\n",
      "           1       0.49      0.80      0.61        60\n",
      "\n",
      "    accuracy                           0.69       200\n",
      "   macro avg       0.69      0.72      0.68       200\n",
      "weighted avg       0.76      0.69      0.70       200\n",
      "\n"
     ]
    },
    {
     "data": {
      "image/png": "[encoded data removed]",
      "text/plain": [
       "<Figure size 640x480 with 2 Axes>"
      ]
     },
     "metadata": {},
     "output_type": "display_data"
    },
    {
     "data": {
      "image/png": "[encoded data removed]",
      "text/plain": [
       "<Figure size 500x300 with 1 Axes>"
      ]
     },
     "metadata": {},
     "output_type": "display_data"
    }
   ],
   "source": [
    "evaluate_classifier(y_test, threshold_predictions)"
   ]
  },
  {
   "cell_type": "markdown",
   "metadata": {},
   "source": [
    "The results are great! By dealing with precision-recall trade-off, I was able to select a threshold value that improved the recall metric from 0.65 to 0.8 while decreasing just a bit the precision score, from 0.51 to 0.49. In practical terms, looking at the confusion matrix, it was possible to correctly predict 48 of the 60 bad risk customers. At the same time, I could also improve the ROC-AUC score from 0.69 to 0.72. Finally, the objective was achieved. Now, the bank can correctly identify 80% of the bad risk customers. Thus, my model solves the business problem by allowing the bank to make informed decisions, balancing profit generation with prudent risk management."
   ]
  },
  {
   "cell_type": "markdown",
   "metadata": {},
   "source": [
    "### Visualizing the probabilities\n",
    "Below I get the top 10 customers with respect to highest and lowest Random Forest model's estimated probabilities of being bad risk. As we can see, the model results are coherent! Sometimes it makes errors, but mostly it is correct with respect to risky clients."
   ]
  },
  {
   "cell_type": "markdown",
   "metadata": {},
   "source": [
    "Top 10 customers with highest model's estimated probabilities of being bad risk."
   ]
  },
  {
   "cell_type": "code",
   "execution_count": null,
   "metadata": {},
   "outputs": [
    {
     "data": {
      "text/html": [
       "<div>\n",
       "<style scoped>\n",
       "    .dataframe tbody tr th:only-of-type {\n",
       "        vertical-align: middle;\n",
       "    }\n",
       "\n",
       "    .dataframe tbody tr th {\n",
       "        vertical-align: top;\n",
       "    }\n",
       "\n",
       "    .dataframe thead th {\n",
       "        text-align: right;\n",
       "    }\n",
       "</style>\n",
       "<table border=\"1\" class=\"dataframe\">\n",
       "  <thead>\n",
       "    <tr style=\"text-align: right;\">\n",
       "      <th></th>\n",
       "      <th>Age</th>\n",
       "      <th>Sex</th>\n",
       "      <th>Job</th>\n",
       "      <th>Housing</th>\n",
       "      <th>Saving accounts</th>\n",
       "      <th>Checking account</th>\n",
       "      <th>Credit amount</th>\n",
       "      <th>Duration</th>\n",
       "      <th>Purpose</th>\n",
       "      <th>Risk</th>\n",
       "      <th>Bad Risk Probas</th>\n",
       "    </tr>\n",
       "  </thead>\n",
       "  <tbody>\n",
       "    <tr>\n",
       "      <th>887</th>\n",
       "      <td>23</td>\n",
       "      <td>1</td>\n",
       "      <td>2</td>\n",
       "      <td>own</td>\n",
       "      <td>little</td>\n",
       "      <td>moderate</td>\n",
       "      <td>15672</td>\n",
       "      <td>48</td>\n",
       "      <td>business</td>\n",
       "      <td>1</td>\n",
       "      <td>0.876973</td>\n",
       "    </tr>\n",
       "    <tr>\n",
       "      <th>832</th>\n",
       "      <td>29</td>\n",
       "      <td>1</td>\n",
       "      <td>2</td>\n",
       "      <td>rent</td>\n",
       "      <td>little</td>\n",
       "      <td>little</td>\n",
       "      <td>11816</td>\n",
       "      <td>45</td>\n",
       "      <td>business</td>\n",
       "      <td>1</td>\n",
       "      <td>0.863209</td>\n",
       "    </tr>\n",
       "    <tr>\n",
       "      <th>11</th>\n",
       "      <td>24</td>\n",
       "      <td>0</td>\n",
       "      <td>2</td>\n",
       "      <td>rent</td>\n",
       "      <td>little</td>\n",
       "      <td>little</td>\n",
       "      <td>4308</td>\n",
       "      <td>48</td>\n",
       "      <td>business</td>\n",
       "      <td>1</td>\n",
       "      <td>0.848541</td>\n",
       "    </tr>\n",
       "    <tr>\n",
       "      <th>915</th>\n",
       "      <td>32</td>\n",
       "      <td>0</td>\n",
       "      <td>3</td>\n",
       "      <td>own</td>\n",
       "      <td>little</td>\n",
       "      <td>moderate</td>\n",
       "      <td>18424</td>\n",
       "      <td>48</td>\n",
       "      <td>vacation/others</td>\n",
       "      <td>1</td>\n",
       "      <td>0.838864</td>\n",
       "    </tr>\n",
       "    <tr>\n",
       "      <th>522</th>\n",
       "      <td>53</td>\n",
       "      <td>1</td>\n",
       "      <td>2</td>\n",
       "      <td>free</td>\n",
       "      <td>little</td>\n",
       "      <td>little</td>\n",
       "      <td>7119</td>\n",
       "      <td>48</td>\n",
       "      <td>furniture/equipment</td>\n",
       "      <td>1</td>\n",
       "      <td>0.819528</td>\n",
       "    </tr>\n",
       "    <tr>\n",
       "      <th>818</th>\n",
       "      <td>43</td>\n",
       "      <td>1</td>\n",
       "      <td>3</td>\n",
       "      <td>own</td>\n",
       "      <td>little</td>\n",
       "      <td>little</td>\n",
       "      <td>15857</td>\n",
       "      <td>36</td>\n",
       "      <td>vacation/others</td>\n",
       "      <td>0</td>\n",
       "      <td>0.799780</td>\n",
       "    </tr>\n",
       "    <tr>\n",
       "      <th>375</th>\n",
       "      <td>37</td>\n",
       "      <td>0</td>\n",
       "      <td>2</td>\n",
       "      <td>rent</td>\n",
       "      <td>little</td>\n",
       "      <td>little</td>\n",
       "      <td>7685</td>\n",
       "      <td>48</td>\n",
       "      <td>business</td>\n",
       "      <td>1</td>\n",
       "      <td>0.796258</td>\n",
       "    </tr>\n",
       "    <tr>\n",
       "      <th>831</th>\n",
       "      <td>23</td>\n",
       "      <td>0</td>\n",
       "      <td>2</td>\n",
       "      <td>rent</td>\n",
       "      <td>little</td>\n",
       "      <td>little</td>\n",
       "      <td>1216</td>\n",
       "      <td>18</td>\n",
       "      <td>car</td>\n",
       "      <td>1</td>\n",
       "      <td>0.789262</td>\n",
       "    </tr>\n",
       "    <tr>\n",
       "      <th>528</th>\n",
       "      <td>31</td>\n",
       "      <td>1</td>\n",
       "      <td>2</td>\n",
       "      <td>rent</td>\n",
       "      <td>little</td>\n",
       "      <td>little</td>\n",
       "      <td>2302</td>\n",
       "      <td>36</td>\n",
       "      <td>radio/TV</td>\n",
       "      <td>1</td>\n",
       "      <td>0.772098</td>\n",
       "    </tr>\n",
       "    <tr>\n",
       "      <th>1</th>\n",
       "      <td>22</td>\n",
       "      <td>0</td>\n",
       "      <td>2</td>\n",
       "      <td>own</td>\n",
       "      <td>little</td>\n",
       "      <td>moderate</td>\n",
       "      <td>5951</td>\n",
       "      <td>48</td>\n",
       "      <td>radio/TV</td>\n",
       "      <td>1</td>\n",
       "      <td>0.765430</td>\n",
       "    </tr>\n",
       "  </tbody>\n",
       "</table>\n",
       "</div>"
      ],
      "text/plain": [
       "     Age  Sex  Job Housing Saving accounts Checking account  Credit amount  \\\n",
       "887   23    1    2     own          little         moderate          15672   \n",
       "832   29    1    2    rent          little           little          11816   \n",
       "11    24    0    2    rent          little           little           4308   \n",
       "915   32    0    3     own          little         moderate          18424   \n",
       "522   53    1    2    free          little           little           7119   \n",
       "818   43    1    3     own          little           little          15857   \n",
       "375   37    0    2    rent          little           little           7685   \n",
       "831   23    0    2    rent          little           little           1216   \n",
       "528   31    1    2    rent          little           little           2302   \n",
       "1     22    0    2     own          little         moderate           5951   \n",
       "\n",
       "     Duration              Purpose  Risk  Bad Risk Probas  \n",
       "887        48             business     1         0.876973  \n",
       "832        45             business     1         0.863209  \n",
       "11         48             business     1         0.848541  \n",
       "915        48      vacation/others     1         0.838864  \n",
       "522        48  furniture/equipment     1         0.819528  \n",
       "818        36      vacation/others     0         0.799780  \n",
       "375        48             business     1         0.796258  \n",
       "831        18                  car     1         0.789262  \n",
       "528        36             radio/TV     1         0.772098  \n",
       "1          48             radio/TV     1         0.765430  "
      ]
     },
     "execution_count": 53,
     "metadata": {},
     "output_type": "execute_result"
    }
   ],
   "source": [
    "bad_risk_probas = predicted_probas[:, 1]\n",
    "\n",
    "probas_df = pd.concat([X_test, y_test], axis=1)\n",
    "probas_df['Bad Risk Probas'] = bad_risk_probas\n",
    "probas_df.sort_values(['Bad Risk Probas'], ascending=False).head(10)"
   ]
  },
  {
   "cell_type": "markdown",
   "metadata": {},
   "source": [
    "Top 10 customers with lowest model's estimated probabilities of being bad risk."
   ]
  },
  {
   "cell_type": "code",
   "execution_count": null,
   "metadata": {},
   "outputs": [
    {
     "data": {
      "text/html": [
       "<div>\n",
       "<style scoped>\n",
       "    .dataframe tbody tr th:only-of-type {\n",
       "        vertical-align: middle;\n",
       "    }\n",
       "\n",
       "    .dataframe tbody tr th {\n",
       "        vertical-align: top;\n",
       "    }\n",
       "\n",
       "    .dataframe thead th {\n",
       "        text-align: right;\n",
       "    }\n",
       "</style>\n",
       "<table border=\"1\" class=\"dataframe\">\n",
       "  <thead>\n",
       "    <tr style=\"text-align: right;\">\n",
       "      <th></th>\n",
       "      <th>Age</th>\n",
       "      <th>Sex</th>\n",
       "      <th>Job</th>\n",
       "      <th>Housing</th>\n",
       "      <th>Saving accounts</th>\n",
       "      <th>Checking account</th>\n",
       "      <th>Credit amount</th>\n",
       "      <th>Duration</th>\n",
       "      <th>Purpose</th>\n",
       "      <th>Risk</th>\n",
       "      <th>Bad Risk Probas</th>\n",
       "    </tr>\n",
       "  </thead>\n",
       "  <tbody>\n",
       "    <tr>\n",
       "      <th>234</th>\n",
       "      <td>42</td>\n",
       "      <td>1</td>\n",
       "      <td>1</td>\n",
       "      <td>own</td>\n",
       "      <td>little</td>\n",
       "      <td>NaN</td>\n",
       "      <td>1544</td>\n",
       "      <td>4</td>\n",
       "      <td>radio/TV</td>\n",
       "      <td>0</td>\n",
       "      <td>0.066664</td>\n",
       "    </tr>\n",
       "    <tr>\n",
       "      <th>551</th>\n",
       "      <td>45</td>\n",
       "      <td>1</td>\n",
       "      <td>1</td>\n",
       "      <td>own</td>\n",
       "      <td>quite rich</td>\n",
       "      <td>NaN</td>\n",
       "      <td>1750</td>\n",
       "      <td>6</td>\n",
       "      <td>radio/TV</td>\n",
       "      <td>0</td>\n",
       "      <td>0.078086</td>\n",
       "    </tr>\n",
       "    <tr>\n",
       "      <th>473</th>\n",
       "      <td>36</td>\n",
       "      <td>1</td>\n",
       "      <td>3</td>\n",
       "      <td>own</td>\n",
       "      <td>NaN</td>\n",
       "      <td>NaN</td>\n",
       "      <td>1238</td>\n",
       "      <td>6</td>\n",
       "      <td>education</td>\n",
       "      <td>0</td>\n",
       "      <td>0.078507</td>\n",
       "    </tr>\n",
       "    <tr>\n",
       "      <th>947</th>\n",
       "      <td>38</td>\n",
       "      <td>1</td>\n",
       "      <td>3</td>\n",
       "      <td>own</td>\n",
       "      <td>NaN</td>\n",
       "      <td>NaN</td>\n",
       "      <td>2859</td>\n",
       "      <td>12</td>\n",
       "      <td>car</td>\n",
       "      <td>0</td>\n",
       "      <td>0.088224</td>\n",
       "    </tr>\n",
       "    <tr>\n",
       "      <th>682</th>\n",
       "      <td>33</td>\n",
       "      <td>1</td>\n",
       "      <td>2</td>\n",
       "      <td>own</td>\n",
       "      <td>little</td>\n",
       "      <td>NaN</td>\n",
       "      <td>1478</td>\n",
       "      <td>15</td>\n",
       "      <td>radio/TV</td>\n",
       "      <td>0</td>\n",
       "      <td>0.089819</td>\n",
       "    </tr>\n",
       "    <tr>\n",
       "      <th>219</th>\n",
       "      <td>64</td>\n",
       "      <td>0</td>\n",
       "      <td>2</td>\n",
       "      <td>own</td>\n",
       "      <td>little</td>\n",
       "      <td>NaN</td>\n",
       "      <td>1364</td>\n",
       "      <td>10</td>\n",
       "      <td>car</td>\n",
       "      <td>0</td>\n",
       "      <td>0.092245</td>\n",
       "    </tr>\n",
       "    <tr>\n",
       "      <th>159</th>\n",
       "      <td>34</td>\n",
       "      <td>1</td>\n",
       "      <td>1</td>\n",
       "      <td>own</td>\n",
       "      <td>NaN</td>\n",
       "      <td>NaN</td>\n",
       "      <td>1898</td>\n",
       "      <td>6</td>\n",
       "      <td>radio/TV</td>\n",
       "      <td>0</td>\n",
       "      <td>0.101378</td>\n",
       "    </tr>\n",
       "    <tr>\n",
       "      <th>379</th>\n",
       "      <td>52</td>\n",
       "      <td>0</td>\n",
       "      <td>1</td>\n",
       "      <td>own</td>\n",
       "      <td>moderate</td>\n",
       "      <td>NaN</td>\n",
       "      <td>362</td>\n",
       "      <td>6</td>\n",
       "      <td>car</td>\n",
       "      <td>0</td>\n",
       "      <td>0.110337</td>\n",
       "    </tr>\n",
       "    <tr>\n",
       "      <th>725</th>\n",
       "      <td>41</td>\n",
       "      <td>0</td>\n",
       "      <td>1</td>\n",
       "      <td>own</td>\n",
       "      <td>rich</td>\n",
       "      <td>NaN</td>\n",
       "      <td>250</td>\n",
       "      <td>6</td>\n",
       "      <td>car</td>\n",
       "      <td>0</td>\n",
       "      <td>0.129991</td>\n",
       "    </tr>\n",
       "    <tr>\n",
       "      <th>430</th>\n",
       "      <td>74</td>\n",
       "      <td>1</td>\n",
       "      <td>1</td>\n",
       "      <td>own</td>\n",
       "      <td>little</td>\n",
       "      <td>NaN</td>\n",
       "      <td>3448</td>\n",
       "      <td>5</td>\n",
       "      <td>business</td>\n",
       "      <td>0</td>\n",
       "      <td>0.133089</td>\n",
       "    </tr>\n",
       "  </tbody>\n",
       "</table>\n",
       "</div>"
      ],
      "text/plain": [
       "     Age  Sex  Job Housing Saving accounts Checking account  Credit amount  \\\n",
       "234   42    1    1     own          little              NaN           1544   \n",
       "551   45    1    1     own      quite rich              NaN           1750   \n",
       "473   36    1    3     own             NaN              NaN           1238   \n",
       "947   38    1    3     own             NaN              NaN           2859   \n",
       "682   33    1    2     own          little              NaN           1478   \n",
       "219   64    0    2     own          little              NaN           1364   \n",
       "159   34    1    1     own             NaN              NaN           1898   \n",
       "379   52    0    1     own        moderate              NaN            362   \n",
       "725   41    0    1     own            rich              NaN            250   \n",
       "430   74    1    1     own          little              NaN           3448   \n",
       "\n",
       "     Duration    Purpose  Risk  Bad Risk Probas  \n",
       "234         4   radio/TV     0         0.066664  \n",
       "551         6   radio/TV     0         0.078086  \n",
       "473         6  education     0         0.078507  \n",
       "947        12        car     0         0.088224  \n",
       "682        15   radio/TV     0         0.089819  \n",
       "219        10        car     0         0.092245  \n",
       "159         6   radio/TV     0         0.101378  \n",
       "379         6        car     0         0.110337  \n",
       "725         6        car     0         0.129991  \n",
       "430         5   business     0         0.133089  "
      ]
     },
     "execution_count": 54,
     "metadata": {},
     "output_type": "execute_result"
    }
   ],
   "source": [
    "probas_df.sort_values(['Bad Risk Probas'], ascending=True).head(10)"
   ]
  },
  {
   "cell_type": "markdown",
   "metadata": {},
   "source": [
    "# 8. Conclusions\n",
    "- In this project, I have built a Random Forest Classifier model for predicting German Bank's customers credit risks. The objective of the project was to build a model that was able to correctly identify as many as possible bad risk customers, focusing on the recall score. \n",
    "- The exploratory data analysis (EDA) provided a bunch of patterns and insights that guided the modelling step and answered a lot of questions about the problem.\n",
    "- The main techniques used to deal with the imbalanced target were stratified split, stratified k-fold cross validation, class weight Random Forest model hyperparameter and precision-recall trade-off balancing. I didn't intend to use SMOTE, because it is prone to overfitting and a lot of experient data scientists don't recommend it.\n",
    "- First, I have reached a 0.65 recall score by applying hyperparameter tuning on Random Forest. Then, I looked at the precision-recall trade-off, finding a threshold that provided a recall of 0.8. I made the predictions again, now comparing the model's estimated probabilities of the customer being bad risk with this threshold. If the probability was greater than it, the instance was classified as positive, else negative. By doing this, the sensitivity in fact went from 0.65 to 0.8 without significantly compromising the precision metric, which went from 0.51 to 0.49, just a little downgrade, incredible!\n",
    "- Overall, the scores suggest that the model provides valuable results for the bank in predicting customers credit risks. It identifies a high proportion of bad risk customers (80% of them, with a 0.8 recall score, the most important one for the analysis), has a decent proportion of correct predictions among the positive instances (0.49 precision score), and shows strong discrimination between bad and good risk customers (0.72 AUC score).\n",
    "- Finally, the business problem was solved. I have found a lot of insights in the EDA step and built a model that is pretty useful for predicting customers credit risks. Now the bank can correctly identify 80% of the bad risk customers. Thus, it can make informed decisions, balancing profit generation with prudent risk management and minimizing potential financial losses caused when a borrower fails to repay a loan or a credit obligation.\n",
    "- The next step is to deploy the model using CI/CD pipeline principles, with modular coding.\n",
    "\n"
   ]
  }
 ],
 "metadata": {
  "kernelspec": {
   "display_name": "Python 3",
   "language": "python",
   "name": "python3"
  },
  "language_info": {
   "codemirror_mode": {
    "name": "ipython",
    "version": 3
   },
   "file_extension": ".py",
   "mimetype": "text/x-python",
   "name": "python",
   "nbconvert_exporter": "python",
   "pygments_lexer": "ipython3",
   "version": "3.11.4"
  },
  "orig_nbformat": 4
 },
 "nbformat": 4,
 "nbformat_minor": 2
}
